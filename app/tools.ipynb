{
 "cells": [
  {
   "cell_type": "markdown",
   "id": "d03b4947",
   "metadata": {},
   "source": [
    "# Installing the required libraries"
   ]
  },
  {
   "cell_type": "code",
   "execution_count": null,
   "id": "0f80e6b7",
   "metadata": {},
   "outputs": [],
   "source": [
    "!pip install -r ../requirements.txt"
   ]
  },
  {
   "cell_type": "markdown",
   "id": "4bc1ffb6",
   "metadata": {},
   "source": [
    "# setting up the LLM"
   ]
  },
  {
   "cell_type": "code",
   "execution_count": null,
   "id": "5ec788b5",
   "metadata": {},
   "outputs": [
    {
     "name": "stdout",
     "output_type": "stream",
     "text": [
      "using tool: multiplication\n",
      "OK. 2 * 2 = 4\n"
     ]
    }
   ],
   "source": [
    "import os\n",
    "from langchain_google_genai import ChatGoogleGenerativeAI\n",
    "from langchain_core.tools import tool\n",
    "from langchain_core.messages import ToolMessage\n",
    "\n",
    "import getpass\n",
    "\n",
    "#config\n",
    "if not os.environ.get(\"GOOGLE_API_KEY\"):\n",
    "  os.environ[\"GOOGLE_API_KEY\"] = getpass.getpass(\"Enter API key for Google Gemini: \")\n",
    "\n",
    "google_api_key = os.environ.get(\"GOOGLE_API_KEY\")\n",
    "if not google_api_key:\n",
    "    raise ValueError(\"GOOGLE_API_KEY environment variable not set. Please set it in the .env file or your environment.\")\n",
    "\n",
    "@tool\n",
    "def multiplication(a: float, b: float) -> float:\n",
    "    \"\"\"Multiply two numbers.\"\"\"\n",
    "    print('using tool: multiplication')\n",
    "    return a * b\n",
    "\n",
    "@tool\n",
    "def EMT_calculator():\n",
    "    \"\"\"Effective medium theory calculator.\"\"\"\n",
    "    from ase import Atoms\n",
    "    d = 1.10\n",
    "    molecule = Atoms('2N', positions=[(0., 0., 0.), (0., 0., d)])\n",
    "\n",
    "    from ase.build import fcc111\n",
    "    slab = fcc111('Cu', size=(4,4,2), vacuum=10.0)\n",
    "\n",
    "    from ase.visualize import view\n",
    "    view(slab)\n",
    "\n",
    "tools = [multiplication, EMT_calculator]\n",
    "\n",
    "llm = ChatGoogleGenerativeAI(model=\"gemini-2.0-flash\")\n",
    "llm_with_tools = llm.bind_tools(tools)\n",
    "\n",
    "\n",
    "query = input('Enter a prompt: ')\n",
    "msg = llm_with_tools.invoke(query)\n",
    "\n",
    "tool_calls = getattr(msg, \"tool_calls\", None) or msg.additional_kwargs.get(\"tool_calls\", [])\n",
    "\n",
    "if not tool_calls: #handles when no tool calls were made\n",
    "    print(msg.content)\n",
    "\n",
    "else:\n",
    "    tool_msgs = []\n",
    "    for tc in tool_calls:\n",
    "        name = tc[\"name\"]\n",
    "        args = tc.get(\"args\") or tc.get(\"arguments\") or {}\n",
    "        call_id = tc.get(\"id\") or tc.get(\"tool_call_id\")  \n",
    "\n",
    "        # Execute the right tool\n",
    "        if name == \"multiplication\":\n",
    "            result = multiplication.invoke(args)  # same as multiplication.func(**args)\n",
    "        else:\n",
    "            result = f\"Unknown tool: {name}\"\n",
    "\n",
    "        # 3) Return tool result with the SAME tool_call_id\n",
    "        tool_msgs.append(\n",
    "            ToolMessage(content=str(result), tool_call_id=call_id)\n",
    "        )\n",
    "\n",
    "    # 4) Final model turn to compose the answer\n",
    "    final = llm_with_tools.invoke([msg] + tool_msgs)\n",
    "\n",
    "    print(final.content)"
   ]
  },
  {
   "cell_type": "code",
   "execution_count": null,
   "id": "08e43d6f",
   "metadata": {},
   "outputs": [],
   "source": []
  }
 ],
 "metadata": {
  "kernelspec": {
   "display_name": "Python 3",
   "language": "python",
   "name": "python3"
  },
  "language_info": {
   "codemirror_mode": {
    "name": "ipython",
    "version": 3
   },
   "file_extension": ".py",
   "mimetype": "text/x-python",
   "name": "python",
   "nbconvert_exporter": "python",
   "pygments_lexer": "ipython3",
   "version": "3.13.1"
  }
 },
 "nbformat": 4,
 "nbformat_minor": 5
}
